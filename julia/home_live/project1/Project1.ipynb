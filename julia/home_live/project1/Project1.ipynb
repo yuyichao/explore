{
 "cells": [
  {
   "cell_type": "markdown",
   "id": "bf864802",
   "metadata": {},
   "source": [
    "# Downloading"
   ]
  },
  {
   "cell_type": "code",
   "execution_count": 6,
   "id": "125d69be",
   "metadata": {},
   "outputs": [],
   "source": [
    "using Downloads\n",
    "using SHA\n",
    "\n",
    "mkpath(\"tmp\")\n",
    "\n",
    "if !isfile(\"tmp/housing.data\")\n",
    "    Downloads.download(\"https://archive.ics.uci.edu/ml/machine-learning-databases/housing/housing.data\", \"tmp/housing.data\")\n",
    "end\n",
    "\n",
    "open(\"tmp/housing.data\") do f\n",
    "    @assert(sha1(f) == [0xad, 0xfa, 0x6b, 0x6d, 0xca,\n",
    "                        0x24, 0xa6, 0x3f, 0xe1, 0x66,\n",
    "                        0xa9, 0xe7, 0xfa, 0x01, 0xce,\n",
    "                        0xe4, 0x33, 0x58, 0x57, 0xd1])\n",
    "end\n",
    "\n",
    "if !isfile(\"tmp/housing.names\")\n",
    "    Downloads.download(\"https://archive.ics.uci.edu/ml/machine-learning-databases/housing/housing.names\", \"tmp/housing.names\")\n",
    "end"
   ]
  },
  {
   "cell_type": "markdown",
   "id": "51869c75",
   "metadata": {},
   "source": [
    "# Loading"
   ]
  },
  {
   "cell_type": "code",
   "execution_count": 12,
   "id": "c1c03774",
   "metadata": {
    "scrolled": false
   },
   "outputs": [
    {
     "data": {
      "text/html": [
       "<div class=\"data-frame\"><p>506 rows × 14 columns (omitted printing of 5 columns)</p><table class=\"data-frame\"><thead><tr><th></th><th>CRIM</th><th>ZN</th><th>INDUS</th><th>CHAS</th><th>NOX</th><th>RM</th><th>AGE</th><th>DIS</th><th>RAD</th></tr><tr><th></th><th title=\"Float64\">Float64</th><th title=\"Float64\">Float64</th><th title=\"Float64\">Float64</th><th title=\"Float64\">Float64</th><th title=\"Float64\">Float64</th><th title=\"Float64\">Float64</th><th title=\"Float64\">Float64</th><th title=\"Float64\">Float64</th><th title=\"Float64\">Float64</th></tr></thead><tbody><tr><th>1</th><td>0.00632</td><td>18.0</td><td>2.31</td><td>0.0</td><td>0.538</td><td>6.575</td><td>65.2</td><td>4.09</td><td>1.0</td></tr><tr><th>2</th><td>0.02731</td><td>0.0</td><td>7.07</td><td>0.0</td><td>0.469</td><td>6.421</td><td>78.9</td><td>4.9671</td><td>2.0</td></tr><tr><th>3</th><td>0.02729</td><td>0.0</td><td>7.07</td><td>0.0</td><td>0.469</td><td>7.185</td><td>61.1</td><td>4.9671</td><td>2.0</td></tr><tr><th>4</th><td>0.03237</td><td>0.0</td><td>2.18</td><td>0.0</td><td>0.458</td><td>6.998</td><td>45.8</td><td>6.0622</td><td>3.0</td></tr><tr><th>5</th><td>0.06905</td><td>0.0</td><td>2.18</td><td>0.0</td><td>0.458</td><td>7.147</td><td>54.2</td><td>6.0622</td><td>3.0</td></tr><tr><th>6</th><td>0.02985</td><td>0.0</td><td>2.18</td><td>0.0</td><td>0.458</td><td>6.43</td><td>58.7</td><td>6.0622</td><td>3.0</td></tr><tr><th>7</th><td>0.08829</td><td>12.5</td><td>7.87</td><td>0.0</td><td>0.524</td><td>6.012</td><td>66.6</td><td>5.5605</td><td>5.0</td></tr><tr><th>8</th><td>0.14455</td><td>12.5</td><td>7.87</td><td>0.0</td><td>0.524</td><td>6.172</td><td>96.1</td><td>5.9505</td><td>5.0</td></tr><tr><th>9</th><td>0.21124</td><td>12.5</td><td>7.87</td><td>0.0</td><td>0.524</td><td>5.631</td><td>100.0</td><td>6.0821</td><td>5.0</td></tr><tr><th>10</th><td>0.17004</td><td>12.5</td><td>7.87</td><td>0.0</td><td>0.524</td><td>6.004</td><td>85.9</td><td>6.5921</td><td>5.0</td></tr><tr><th>11</th><td>0.22489</td><td>12.5</td><td>7.87</td><td>0.0</td><td>0.524</td><td>6.377</td><td>94.3</td><td>6.3467</td><td>5.0</td></tr><tr><th>12</th><td>0.11747</td><td>12.5</td><td>7.87</td><td>0.0</td><td>0.524</td><td>6.009</td><td>82.9</td><td>6.2267</td><td>5.0</td></tr><tr><th>13</th><td>0.09378</td><td>12.5</td><td>7.87</td><td>0.0</td><td>0.524</td><td>5.889</td><td>39.0</td><td>5.4509</td><td>5.0</td></tr><tr><th>14</th><td>0.62976</td><td>0.0</td><td>8.14</td><td>0.0</td><td>0.538</td><td>5.949</td><td>61.8</td><td>4.7075</td><td>4.0</td></tr><tr><th>15</th><td>0.63796</td><td>0.0</td><td>8.14</td><td>0.0</td><td>0.538</td><td>6.096</td><td>84.5</td><td>4.4619</td><td>4.0</td></tr><tr><th>16</th><td>0.62739</td><td>0.0</td><td>8.14</td><td>0.0</td><td>0.538</td><td>5.834</td><td>56.5</td><td>4.4986</td><td>4.0</td></tr><tr><th>17</th><td>1.05393</td><td>0.0</td><td>8.14</td><td>0.0</td><td>0.538</td><td>5.935</td><td>29.3</td><td>4.4986</td><td>4.0</td></tr><tr><th>18</th><td>0.7842</td><td>0.0</td><td>8.14</td><td>0.0</td><td>0.538</td><td>5.99</td><td>81.7</td><td>4.2579</td><td>4.0</td></tr><tr><th>19</th><td>0.80271</td><td>0.0</td><td>8.14</td><td>0.0</td><td>0.538</td><td>5.456</td><td>36.6</td><td>3.7965</td><td>4.0</td></tr><tr><th>20</th><td>0.7258</td><td>0.0</td><td>8.14</td><td>0.0</td><td>0.538</td><td>5.727</td><td>69.5</td><td>3.7965</td><td>4.0</td></tr><tr><th>21</th><td>1.25179</td><td>0.0</td><td>8.14</td><td>0.0</td><td>0.538</td><td>5.57</td><td>98.1</td><td>3.7979</td><td>4.0</td></tr><tr><th>22</th><td>0.85204</td><td>0.0</td><td>8.14</td><td>0.0</td><td>0.538</td><td>5.965</td><td>89.2</td><td>4.0123</td><td>4.0</td></tr><tr><th>23</th><td>1.23247</td><td>0.0</td><td>8.14</td><td>0.0</td><td>0.538</td><td>6.142</td><td>91.7</td><td>3.9769</td><td>4.0</td></tr><tr><th>24</th><td>0.98843</td><td>0.0</td><td>8.14</td><td>0.0</td><td>0.538</td><td>5.813</td><td>100.0</td><td>4.0952</td><td>4.0</td></tr><tr><th>25</th><td>0.75026</td><td>0.0</td><td>8.14</td><td>0.0</td><td>0.538</td><td>5.924</td><td>94.1</td><td>4.3996</td><td>4.0</td></tr><tr><th>26</th><td>0.84054</td><td>0.0</td><td>8.14</td><td>0.0</td><td>0.538</td><td>5.599</td><td>85.7</td><td>4.4546</td><td>4.0</td></tr><tr><th>27</th><td>0.67191</td><td>0.0</td><td>8.14</td><td>0.0</td><td>0.538</td><td>5.813</td><td>90.3</td><td>4.682</td><td>4.0</td></tr><tr><th>28</th><td>0.95577</td><td>0.0</td><td>8.14</td><td>0.0</td><td>0.538</td><td>6.047</td><td>88.8</td><td>4.4534</td><td>4.0</td></tr><tr><th>29</th><td>0.77299</td><td>0.0</td><td>8.14</td><td>0.0</td><td>0.538</td><td>6.495</td><td>94.4</td><td>4.4547</td><td>4.0</td></tr><tr><th>30</th><td>1.00245</td><td>0.0</td><td>8.14</td><td>0.0</td><td>0.538</td><td>6.674</td><td>87.3</td><td>4.239</td><td>4.0</td></tr><tr><th>&vellip;</th><td>&vellip;</td><td>&vellip;</td><td>&vellip;</td><td>&vellip;</td><td>&vellip;</td><td>&vellip;</td><td>&vellip;</td><td>&vellip;</td><td>&vellip;</td></tr></tbody></table></div>"
      ],
      "text/latex": [
       "\\begin{tabular}{r|cccccccccc}\n",
       "\t& CRIM & ZN & INDUS & CHAS & NOX & RM & AGE & DIS & RAD & \\\\\n",
       "\t\\hline\n",
       "\t& Float64 & Float64 & Float64 & Float64 & Float64 & Float64 & Float64 & Float64 & Float64 & \\\\\n",
       "\t\\hline\n",
       "\t1 & 0.00632 & 18.0 & 2.31 & 0.0 & 0.538 & 6.575 & 65.2 & 4.09 & 1.0 & $\\dots$ \\\\\n",
       "\t2 & 0.02731 & 0.0 & 7.07 & 0.0 & 0.469 & 6.421 & 78.9 & 4.9671 & 2.0 & $\\dots$ \\\\\n",
       "\t3 & 0.02729 & 0.0 & 7.07 & 0.0 & 0.469 & 7.185 & 61.1 & 4.9671 & 2.0 & $\\dots$ \\\\\n",
       "\t4 & 0.03237 & 0.0 & 2.18 & 0.0 & 0.458 & 6.998 & 45.8 & 6.0622 & 3.0 & $\\dots$ \\\\\n",
       "\t5 & 0.06905 & 0.0 & 2.18 & 0.0 & 0.458 & 7.147 & 54.2 & 6.0622 & 3.0 & $\\dots$ \\\\\n",
       "\t6 & 0.02985 & 0.0 & 2.18 & 0.0 & 0.458 & 6.43 & 58.7 & 6.0622 & 3.0 & $\\dots$ \\\\\n",
       "\t7 & 0.08829 & 12.5 & 7.87 & 0.0 & 0.524 & 6.012 & 66.6 & 5.5605 & 5.0 & $\\dots$ \\\\\n",
       "\t8 & 0.14455 & 12.5 & 7.87 & 0.0 & 0.524 & 6.172 & 96.1 & 5.9505 & 5.0 & $\\dots$ \\\\\n",
       "\t9 & 0.21124 & 12.5 & 7.87 & 0.0 & 0.524 & 5.631 & 100.0 & 6.0821 & 5.0 & $\\dots$ \\\\\n",
       "\t10 & 0.17004 & 12.5 & 7.87 & 0.0 & 0.524 & 6.004 & 85.9 & 6.5921 & 5.0 & $\\dots$ \\\\\n",
       "\t11 & 0.22489 & 12.5 & 7.87 & 0.0 & 0.524 & 6.377 & 94.3 & 6.3467 & 5.0 & $\\dots$ \\\\\n",
       "\t12 & 0.11747 & 12.5 & 7.87 & 0.0 & 0.524 & 6.009 & 82.9 & 6.2267 & 5.0 & $\\dots$ \\\\\n",
       "\t13 & 0.09378 & 12.5 & 7.87 & 0.0 & 0.524 & 5.889 & 39.0 & 5.4509 & 5.0 & $\\dots$ \\\\\n",
       "\t14 & 0.62976 & 0.0 & 8.14 & 0.0 & 0.538 & 5.949 & 61.8 & 4.7075 & 4.0 & $\\dots$ \\\\\n",
       "\t15 & 0.63796 & 0.0 & 8.14 & 0.0 & 0.538 & 6.096 & 84.5 & 4.4619 & 4.0 & $\\dots$ \\\\\n",
       "\t16 & 0.62739 & 0.0 & 8.14 & 0.0 & 0.538 & 5.834 & 56.5 & 4.4986 & 4.0 & $\\dots$ \\\\\n",
       "\t17 & 1.05393 & 0.0 & 8.14 & 0.0 & 0.538 & 5.935 & 29.3 & 4.4986 & 4.0 & $\\dots$ \\\\\n",
       "\t18 & 0.7842 & 0.0 & 8.14 & 0.0 & 0.538 & 5.99 & 81.7 & 4.2579 & 4.0 & $\\dots$ \\\\\n",
       "\t19 & 0.80271 & 0.0 & 8.14 & 0.0 & 0.538 & 5.456 & 36.6 & 3.7965 & 4.0 & $\\dots$ \\\\\n",
       "\t20 & 0.7258 & 0.0 & 8.14 & 0.0 & 0.538 & 5.727 & 69.5 & 3.7965 & 4.0 & $\\dots$ \\\\\n",
       "\t21 & 1.25179 & 0.0 & 8.14 & 0.0 & 0.538 & 5.57 & 98.1 & 3.7979 & 4.0 & $\\dots$ \\\\\n",
       "\t22 & 0.85204 & 0.0 & 8.14 & 0.0 & 0.538 & 5.965 & 89.2 & 4.0123 & 4.0 & $\\dots$ \\\\\n",
       "\t23 & 1.23247 & 0.0 & 8.14 & 0.0 & 0.538 & 6.142 & 91.7 & 3.9769 & 4.0 & $\\dots$ \\\\\n",
       "\t24 & 0.98843 & 0.0 & 8.14 & 0.0 & 0.538 & 5.813 & 100.0 & 4.0952 & 4.0 & $\\dots$ \\\\\n",
       "\t25 & 0.75026 & 0.0 & 8.14 & 0.0 & 0.538 & 5.924 & 94.1 & 4.3996 & 4.0 & $\\dots$ \\\\\n",
       "\t26 & 0.84054 & 0.0 & 8.14 & 0.0 & 0.538 & 5.599 & 85.7 & 4.4546 & 4.0 & $\\dots$ \\\\\n",
       "\t27 & 0.67191 & 0.0 & 8.14 & 0.0 & 0.538 & 5.813 & 90.3 & 4.682 & 4.0 & $\\dots$ \\\\\n",
       "\t28 & 0.95577 & 0.0 & 8.14 & 0.0 & 0.538 & 6.047 & 88.8 & 4.4534 & 4.0 & $\\dots$ \\\\\n",
       "\t29 & 0.77299 & 0.0 & 8.14 & 0.0 & 0.538 & 6.495 & 94.4 & 4.4547 & 4.0 & $\\dots$ \\\\\n",
       "\t30 & 1.00245 & 0.0 & 8.14 & 0.0 & 0.538 & 6.674 & 87.3 & 4.239 & 4.0 & $\\dots$ \\\\\n",
       "\t$\\dots$ & $\\dots$ & $\\dots$ & $\\dots$ & $\\dots$ & $\\dots$ & $\\dots$ & $\\dots$ & $\\dots$ & $\\dots$ &  \\\\\n",
       "\\end{tabular}\n"
      ],
      "text/plain": [
       "\u001b[1m506×14 DataFrame\u001b[0m\n",
       "\u001b[1m Row \u001b[0m│\u001b[1m CRIM    \u001b[0m\u001b[1m ZN      \u001b[0m\u001b[1m INDUS   \u001b[0m\u001b[1m CHAS    \u001b[0m\u001b[1m NOX     \u001b[0m\u001b[1m RM      \u001b[0m\u001b[1m AGE     \u001b[0m\u001b[1m DIS     \u001b[0m\u001b[1m\u001b[0m ⋯\n",
       "\u001b[1m     \u001b[0m│\u001b[90m Float64 \u001b[0m\u001b[90m Float64 \u001b[0m\u001b[90m Float64 \u001b[0m\u001b[90m Float64 \u001b[0m\u001b[90m Float64 \u001b[0m\u001b[90m Float64 \u001b[0m\u001b[90m Float64 \u001b[0m\u001b[90m Float64 \u001b[0m\u001b[90m\u001b[0m ⋯\n",
       "─────┼──────────────────────────────────────────────────────────────────────────\n",
       "   1 │ 0.00632     18.0     2.31      0.0    0.538    6.575     65.2   4.09    ⋯\n",
       "   2 │ 0.02731      0.0     7.07      0.0    0.469    6.421     78.9   4.9671\n",
       "   3 │ 0.02729      0.0     7.07      0.0    0.469    7.185     61.1   4.9671\n",
       "   4 │ 0.03237      0.0     2.18      0.0    0.458    6.998     45.8   6.0622\n",
       "   5 │ 0.06905      0.0     2.18      0.0    0.458    7.147     54.2   6.0622  ⋯\n",
       "   6 │ 0.02985      0.0     2.18      0.0    0.458    6.43      58.7   6.0622\n",
       "   7 │ 0.08829     12.5     7.87      0.0    0.524    6.012     66.6   5.5605\n",
       "   8 │ 0.14455     12.5     7.87      0.0    0.524    6.172     96.1   5.9505\n",
       "   9 │ 0.21124     12.5     7.87      0.0    0.524    5.631    100.0   6.0821  ⋯\n",
       "  10 │ 0.17004     12.5     7.87      0.0    0.524    6.004     85.9   6.5921\n",
       "  11 │ 0.22489     12.5     7.87      0.0    0.524    6.377     94.3   6.3467\n",
       "  ⋮  │    ⋮        ⋮        ⋮        ⋮        ⋮        ⋮        ⋮        ⋮     ⋱\n",
       " 497 │ 0.2896       0.0     9.69      0.0    0.585    5.39      72.9   2.7986\n",
       " 498 │ 0.26838      0.0     9.69      0.0    0.585    5.794     70.6   2.8927  ⋯\n",
       " 499 │ 0.23912      0.0     9.69      0.0    0.585    6.019     65.3   2.4091\n",
       " 500 │ 0.17783      0.0     9.69      0.0    0.585    5.569     73.5   2.3999\n",
       " 501 │ 0.22438      0.0     9.69      0.0    0.585    6.027     79.7   2.4982\n",
       " 502 │ 0.06263      0.0    11.93      0.0    0.573    6.593     69.1   2.4786  ⋯\n",
       " 503 │ 0.04527      0.0    11.93      0.0    0.573    6.12      76.7   2.2875\n",
       " 504 │ 0.06076      0.0    11.93      0.0    0.573    6.976     91.0   2.1675\n",
       " 505 │ 0.10959      0.0    11.93      0.0    0.573    6.794     89.3   2.3889\n",
       " 506 │ 0.04741      0.0    11.93      0.0    0.573    6.03      80.8   2.505   ⋯\n",
       "\u001b[36m                                                  6 columns and 485 rows omitted\u001b[0m"
      ]
     },
     "execution_count": 12,
     "metadata": {},
     "output_type": "execute_result"
    }
   ],
   "source": [
    "using DelimitedFiles\n",
    "using DataFrames\n",
    "\n",
    "data = readdlm(\"tmp/housing.data\", Float64)\n",
    "names = [\"CRIM\", \"ZN\", \"INDUS\", \"CHAS\", \"NOX\", \"RM\", \"AGE\", \"DIS\", \"RAD\", \"TAX\", \"PTRATIO\", \"B\", \"LSTAT\", \"MEDV\"]\n",
    "dataframe = DataFrame(data, names)"
   ]
  },
  {
   "cell_type": "code",
   "execution_count": 13,
   "id": "15329cb4",
   "metadata": {
    "scrolled": false
   },
   "outputs": [
    {
     "data": {
      "text/html": [
       "<div class=\"data-frame\"><p>14 rows × 7 columns</p><table class=\"data-frame\"><thead><tr><th></th><th>variable</th><th>mean</th><th>min</th><th>median</th><th>max</th><th>nmissing</th><th>eltype</th></tr><tr><th></th><th title=\"Symbol\">Symbol</th><th title=\"Float64\">Float64</th><th title=\"Float64\">Float64</th><th title=\"Float64\">Float64</th><th title=\"Float64\">Float64</th><th title=\"Int64\">Int64</th><th title=\"DataType\">DataType</th></tr></thead><tbody><tr><th>1</th><td>CRIM</td><td>3.61352</td><td>0.00632</td><td>0.25651</td><td>88.9762</td><td>0</td><td>Float64</td></tr><tr><th>2</th><td>ZN</td><td>11.3636</td><td>0.0</td><td>0.0</td><td>100.0</td><td>0</td><td>Float64</td></tr><tr><th>3</th><td>INDUS</td><td>11.1368</td><td>0.46</td><td>9.69</td><td>27.74</td><td>0</td><td>Float64</td></tr><tr><th>4</th><td>CHAS</td><td>0.06917</td><td>0.0</td><td>0.0</td><td>1.0</td><td>0</td><td>Float64</td></tr><tr><th>5</th><td>NOX</td><td>0.554695</td><td>0.385</td><td>0.538</td><td>0.871</td><td>0</td><td>Float64</td></tr><tr><th>6</th><td>RM</td><td>6.28463</td><td>3.561</td><td>6.2085</td><td>8.78</td><td>0</td><td>Float64</td></tr><tr><th>7</th><td>AGE</td><td>68.5749</td><td>2.9</td><td>77.5</td><td>100.0</td><td>0</td><td>Float64</td></tr><tr><th>8</th><td>DIS</td><td>3.79504</td><td>1.1296</td><td>3.20745</td><td>12.1265</td><td>0</td><td>Float64</td></tr><tr><th>9</th><td>RAD</td><td>9.54941</td><td>1.0</td><td>5.0</td><td>24.0</td><td>0</td><td>Float64</td></tr><tr><th>10</th><td>TAX</td><td>408.237</td><td>187.0</td><td>330.0</td><td>711.0</td><td>0</td><td>Float64</td></tr><tr><th>11</th><td>PTRATIO</td><td>18.4555</td><td>12.6</td><td>19.05</td><td>22.0</td><td>0</td><td>Float64</td></tr><tr><th>12</th><td>B</td><td>356.674</td><td>0.32</td><td>391.44</td><td>396.9</td><td>0</td><td>Float64</td></tr><tr><th>13</th><td>LSTAT</td><td>12.6531</td><td>1.73</td><td>11.36</td><td>37.97</td><td>0</td><td>Float64</td></tr><tr><th>14</th><td>MEDV</td><td>22.5328</td><td>5.0</td><td>21.2</td><td>50.0</td><td>0</td><td>Float64</td></tr></tbody></table></div>"
      ],
      "text/latex": [
       "\\begin{tabular}{r|ccccccc}\n",
       "\t& variable & mean & min & median & max & nmissing & eltype\\\\\n",
       "\t\\hline\n",
       "\t& Symbol & Float64 & Float64 & Float64 & Float64 & Int64 & DataType\\\\\n",
       "\t\\hline\n",
       "\t1 & CRIM & 3.61352 & 0.00632 & 0.25651 & 88.9762 & 0 & Float64 \\\\\n",
       "\t2 & ZN & 11.3636 & 0.0 & 0.0 & 100.0 & 0 & Float64 \\\\\n",
       "\t3 & INDUS & 11.1368 & 0.46 & 9.69 & 27.74 & 0 & Float64 \\\\\n",
       "\t4 & CHAS & 0.06917 & 0.0 & 0.0 & 1.0 & 0 & Float64 \\\\\n",
       "\t5 & NOX & 0.554695 & 0.385 & 0.538 & 0.871 & 0 & Float64 \\\\\n",
       "\t6 & RM & 6.28463 & 3.561 & 6.2085 & 8.78 & 0 & Float64 \\\\\n",
       "\t7 & AGE & 68.5749 & 2.9 & 77.5 & 100.0 & 0 & Float64 \\\\\n",
       "\t8 & DIS & 3.79504 & 1.1296 & 3.20745 & 12.1265 & 0 & Float64 \\\\\n",
       "\t9 & RAD & 9.54941 & 1.0 & 5.0 & 24.0 & 0 & Float64 \\\\\n",
       "\t10 & TAX & 408.237 & 187.0 & 330.0 & 711.0 & 0 & Float64 \\\\\n",
       "\t11 & PTRATIO & 18.4555 & 12.6 & 19.05 & 22.0 & 0 & Float64 \\\\\n",
       "\t12 & B & 356.674 & 0.32 & 391.44 & 396.9 & 0 & Float64 \\\\\n",
       "\t13 & LSTAT & 12.6531 & 1.73 & 11.36 & 37.97 & 0 & Float64 \\\\\n",
       "\t14 & MEDV & 22.5328 & 5.0 & 21.2 & 50.0 & 0 & Float64 \\\\\n",
       "\\end{tabular}\n"
      ],
      "text/plain": [
       "\u001b[1m14×7 DataFrame\u001b[0m\n",
       "\u001b[1m Row \u001b[0m│\u001b[1m variable \u001b[0m\u001b[1m mean       \u001b[0m\u001b[1m min       \u001b[0m\u001b[1m median    \u001b[0m\u001b[1m max      \u001b[0m\u001b[1m nmissing \u001b[0m\u001b[1m eltype \u001b[0m ⋯\n",
       "\u001b[1m     \u001b[0m│\u001b[90m Symbol   \u001b[0m\u001b[90m Float64    \u001b[0m\u001b[90m Float64   \u001b[0m\u001b[90m Float64   \u001b[0m\u001b[90m Float64  \u001b[0m\u001b[90m Int64    \u001b[0m\u001b[90m DataTyp\u001b[0m ⋯\n",
       "─────┼──────────────────────────────────────────────────────────────────────────\n",
       "   1 │ CRIM        3.61352     0.00632    0.25651   88.9762         0  Float64 ⋯\n",
       "   2 │ ZN         11.3636      0.0        0.0      100.0            0  Float64\n",
       "   3 │ INDUS      11.1368      0.46       9.69      27.74           0  Float64\n",
       "   4 │ CHAS        0.06917     0.0        0.0        1.0            0  Float64\n",
       "   5 │ NOX         0.554695    0.385      0.538      0.871          0  Float64 ⋯\n",
       "   6 │ RM          6.28463     3.561      6.2085     8.78           0  Float64\n",
       "   7 │ AGE        68.5749      2.9       77.5      100.0            0  Float64\n",
       "   8 │ DIS         3.79504     1.1296     3.20745   12.1265         0  Float64\n",
       "   9 │ RAD         9.54941     1.0        5.0       24.0            0  Float64 ⋯\n",
       "  10 │ TAX       408.237     187.0      330.0      711.0            0  Float64\n",
       "  11 │ PTRATIO    18.4555     12.6       19.05      22.0            0  Float64\n",
       "  12 │ B         356.674       0.32     391.44     396.9            0  Float64\n",
       "  13 │ LSTAT      12.6531      1.73      11.36      37.97           0  Float64 ⋯\n",
       "  14 │ MEDV       22.5328      5.0       21.2       50.0            0  Float64\n",
       "\u001b[36m                                                                1 column omitted\u001b[0m"
      ]
     },
     "execution_count": 13,
     "metadata": {},
     "output_type": "execute_result"
    }
   ],
   "source": [
    "describe(dataframe)"
   ]
  }
 ],
 "metadata": {
  "kernelspec": {
   "display_name": "Julia 1.8.0-DEV",
   "language": "julia",
   "name": "julia-1.8"
  },
  "language_info": {
   "file_extension": ".jl",
   "mimetype": "application/julia",
   "name": "julia",
   "version": "1.8.0"
  }
 },
 "nbformat": 4,
 "nbformat_minor": 5
}
