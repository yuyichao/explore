{
 "cells": [
  {
   "cell_type": "code",
   "execution_count": 1,
   "metadata": {
    "collapsed": true
   },
   "outputs": [],
   "source": [
    "using PyCall"
   ]
  },
  {
   "cell_type": "code",
   "execution_count": 2,
   "metadata": {
    "collapsed": false
   },
   "outputs": [
    {
     "data": {
      "text/plain": [
       "PyObject <module 'IPython.nbformat.current' from '/usr/lib/python3.4/site-packages/IPython/nbformat/current.py'>"
      ]
     },
     "execution_count": 2,
     "metadata": {},
     "output_type": "execute_result"
    }
   ],
   "source": [
    "nbf = pyimport(\"IPython.nbformat.current\")"
   ]
  },
  {
   "cell_type": "code",
   "execution_count": 3,
   "metadata": {
    "collapsed": false
   },
   "outputs": [
    {
     "data": {
      "text/plain": [
       "PyObject {'nbformat_minor': 0, 'worksheets': [], 'metadata': {}, 'nbformat': 3}"
      ]
     },
     "execution_count": 3,
     "metadata": {},
     "output_type": "execute_result"
    }
   ],
   "source": [
    "nb = pycall(nbf[\"new_notebook\"], PyObject)"
   ]
  },
  {
   "cell_type": "code",
   "execution_count": 4,
   "metadata": {
    "collapsed": false
   },
   "outputs": [
    {
     "data": {
      "text/plain": [
       "2-element Array{PyCall.PyObject,1}:\n",
       " PyObject {'metadata': {}, 'source': 'This is an auto-generated notebook.', 'cell_type': 'markdown'}                    \n",
       " PyObject {'collapsed': False, 'metadata': {}, 'outputs': [], 'input': '1+2', 'cell_type': 'code', 'language': 'python'}"
      ]
     },
     "execution_count": 4,
     "metadata": {},
     "output_type": "execute_result"
    }
   ],
   "source": [
    "text = \"This is an auto-generated notebook.\"\n",
    "code = \"1+2\"\n",
    "\n",
    "cells = [pycall(nbf[\"new_text_cell\"], PyObject, \"markdown\", text),\n",
    "         pycall(nbf[\"new_code_cell\"], PyObject, code)]"
   ]
  },
  {
   "cell_type": "code",
   "execution_count": 5,
   "metadata": {
    "collapsed": false
   },
   "outputs": [
    {
     "data": {
      "text/plain": [
       "PyObject None"
      ]
     },
     "execution_count": 5,
     "metadata": {},
     "output_type": "execute_result"
    }
   ],
   "source": [
    "pycall(nb[\"worksheets\"][\"append\"], PyObject,\n",
    "       pycall(nbf[\"new_worksheet\"], PyObject, cells=cells))"
   ]
  },
  {
   "cell_type": "code",
   "execution_count": 7,
   "metadata": {
    "collapsed": false
   },
   "outputs": [],
   "source": [
    "fname = \"test2.ipynb\"\n",
    "\n",
    "@pyimport builtins\n",
    "\n",
    "f = builtins.open(fname, \"w\")\n",
    "nbf[:write](nb, f, \"ipynb\")\n",
    "f[:close]()"
   ]
  }
 ],
 "metadata": {
  "kernelspec": {
   "display_name": "Julia 0.4.0-dev",
   "language": "julia",
   "name": "julia-0.4"
  },
  "language_info": {
   "file_extension": ".jl",
   "mimetype": "application/julia",
   "name": "julia",
   "version": "0.4.0"
  }
 },
 "nbformat": 4,
 "nbformat_minor": 0
}
